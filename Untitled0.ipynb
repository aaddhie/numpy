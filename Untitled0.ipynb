{
  "nbformat": 4,
  "nbformat_minor": 0,
  "metadata": {
    "colab": {
      "provenance": [],
      "authorship_tag": "ABX9TyPBFlyZwdcRz9Xs1Ui7W2uK",
      "include_colab_link": true
    },
    "kernelspec": {
      "name": "python3",
      "display_name": "Python 3"
    },
    "language_info": {
      "name": "python"
    }
  },
  "cells": [
    {
      "cell_type": "markdown",
      "metadata": {
        "id": "view-in-github",
        "colab_type": "text"
      },
      "source": [
        "<a href=\"https://colab.research.google.com/github/aaddhie/numpy/blob/main/Untitled0.ipynb\" target=\"_parent\"><img src=\"https://colab.research.google.com/assets/colab-badge.svg\" alt=\"Open In Colab\"/></a>"
      ]
    },
    {
      "cell_type": "code",
      "execution_count": null,
      "metadata": {
        "colab": {
          "base_uri": "https://localhost:8080/"
        },
        "id": "FwuBgZbADU_B",
        "outputId": "8357eab5-3d9c-4fdd-85c2-c846c5a54e02"
      },
      "outputs": [
        {
          "output_type": "stream",
          "name": "stdout",
          "text": [
            "[[1 2 3 4]\n",
            " [5 3 2 2]\n",
            " [7 6 5 3]\n",
            " [3 4 3 2]]\n"
          ]
        }
      ],
      "source": [
        "#create a 4x4 matrix\n",
        "\n",
        "import numpy as np\n",
        "\n",
        "z=np.array([[1,2,3,4],[5,3,2,2],[7,6,5,3],[3,4,3,2]])\n",
        "print(z)\n"
      ]
    },
    {
      "cell_type": "code",
      "source": [
        "print (z[0])  #\n",
        "\n",
        "print(z[:,0])\n",
        "\n",
        "print(z[1,1])\n",
        "\n",
        "print(z[2,2])\n",
        "\n",
        "print(z[3,2:])\n",
        "\n",
        "print(z[2:,2:])\n",
        "print (z[1:3,3])\n",
        "\n",
        "print(z[1:3,0:3])\n",
        "\n",
        "print(z[0:3,1:])\n",
        "\n",
        "print(z[0:,1])\n",
        "\n",
        "print(z[0:,0:])\n"
      ],
      "metadata": {
        "colab": {
          "base_uri": "https://localhost:8080/"
        },
        "id": "XHQTSK0tGFEB",
        "outputId": "10eeff0d-ce96-459a-ab01-73d9953d80b5"
      },
      "execution_count": null,
      "outputs": [
        {
          "output_type": "stream",
          "name": "stdout",
          "text": [
            "[1 2 3 4]\n",
            "[1 5 7 3]\n",
            "3\n",
            "5\n",
            "[3 2]\n",
            "[[5 3]\n",
            " [3 2]]\n",
            "[2 3]\n",
            "[[5 3 2]\n",
            " [7 6 5]]\n",
            "[[2 3 4]\n",
            " [3 2 2]\n",
            " [6 5 3]]\n",
            "[2 3 6 4]\n"
          ]
        }
      ]
    },
    {
      "cell_type": "code",
      "source": [
        "#zero matrix\n",
        "\n",
        "\n",
        "z=np.zeros([2,3,3],dtype=complex)\n",
        "print(z)\n",
        "\n"
      ],
      "metadata": {
        "colab": {
          "base_uri": "https://localhost:8080/"
        },
        "id": "6ilnE6f4JseW",
        "outputId": "c1d7ad4c-36c2-4649-dc62-37164a2aad15"
      },
      "execution_count": null,
      "outputs": [
        {
          "output_type": "stream",
          "name": "stdout",
          "text": [
            "[[[0.+0.j 0.+0.j 0.+0.j]\n",
            "  [0.+0.j 0.+0.j 0.+0.j]\n",
            "  [0.+0.j 0.+0.j 0.+0.j]]\n",
            "\n",
            " [[0.+0.j 0.+0.j 0.+0.j]\n",
            "  [0.+0.j 0.+0.j 0.+0.j]\n",
            "  [0.+0.j 0.+0.j 0.+0.j]]]\n"
          ]
        }
      ]
    },
    {
      "cell_type": "code",
      "source": [
        "#one matrix\n",
        "\n",
        "z=np.ones([3,3],dtype=int)\n",
        "print(z)"
      ],
      "metadata": {
        "colab": {
          "base_uri": "https://localhost:8080/"
        },
        "id": "xSEXi6mJKg8b",
        "outputId": "87a55b06-25a2-41d4-ec98-45e61d69aae7"
      },
      "execution_count": null,
      "outputs": [
        {
          "output_type": "stream",
          "name": "stdout",
          "text": [
            "[[1 1 1]\n",
            " [1 1 1]\n",
            " [1 1 1]]\n"
          ]
        }
      ]
    },
    {
      "cell_type": "code",
      "source": [
        "#create two 2x2 matrix\n",
        "\n",
        "a=np.array([[1,2],[3,4]])\n",
        "b=np.array([[5,6],[7,8]])\n",
        "print(a)\n",
        "print(b)\n"
      ],
      "metadata": {
        "colab": {
          "base_uri": "https://localhost:8080/"
        },
        "id": "PiXqPa4vKysi",
        "outputId": "df5585ac-7c5b-4cc5-8b6d-9964aa858fbb"
      },
      "execution_count": null,
      "outputs": [
        {
          "output_type": "stream",
          "name": "stdout",
          "text": [
            "[[1 2]\n",
            " [3 4]]\n",
            "[[5 6]\n",
            " [7 8]]\n",
            "[[ 6  8]\n",
            " [10 12]]\n"
          ]
        }
      ]
    },
    {
      "cell_type": "code",
      "source": [
        "#matrix addition\n",
        "\n",
        "a=np.array([[1,2],[3,4]])\n",
        "b=np.array([[5,6],[7,8]])\n",
        "print(a)\n",
        "print(b)\n",
        "print(a+b)\n",
        "\n"
      ],
      "metadata": {
        "colab": {
          "base_uri": "https://localhost:8080/"
        },
        "id": "pV1pibu6LSw-",
        "outputId": "fc5717c9-d271-45d5-9ef6-c560bd9d5069"
      },
      "execution_count": null,
      "outputs": [
        {
          "output_type": "stream",
          "name": "stdout",
          "text": [
            "[[1 2]\n",
            " [3 4]]\n",
            "[[5 6]\n",
            " [7 8]]\n",
            "[[ 6  8]\n",
            " [10 12]]\n"
          ]
        }
      ]
    },
    {
      "cell_type": "code",
      "source": [
        "#matrix substraction\n",
        "\n",
        "a=np.array([[1,2],[3,4]])\n",
        "b=np.array([[5,6],[7,8]])\n",
        "print(a)\n",
        "print(b)\n",
        "print(a-b)"
      ],
      "metadata": {
        "colab": {
          "base_uri": "https://localhost:8080/"
        },
        "id": "THMXWeE6Lre4",
        "outputId": "b5a429ec-5992-47bf-e1c8-fdc43b166c7e"
      },
      "execution_count": null,
      "outputs": [
        {
          "output_type": "stream",
          "name": "stdout",
          "text": [
            "[[1 2]\n",
            " [3 4]]\n",
            "[[5 6]\n",
            " [7 8]]\n",
            "[[-4 -4]\n",
            " [-4 -4]]\n"
          ]
        }
      ]
    },
    {
      "cell_type": "code",
      "source": [
        "#matrix multiplication\n",
        "\n",
        "a=np.array([[1,2],[3,4]])\n",
        "b=np.array([[5,6],[7,8]])\n",
        "#print(a)\n",
        "#print(b)\n",
        "print(a*b)#not a matrix multiplication\n",
        "\n",
        "print(a@b)#matrix multiplication\n",
        "\n",
        "print(a.dot(b))#matrix multiplication"
      ],
      "metadata": {
        "colab": {
          "base_uri": "https://localhost:8080/"
        },
        "id": "ULYzRfVMMEZ1",
        "outputId": "1031e54b-bcd8-41ec-814a-9d9c656695de"
      },
      "execution_count": null,
      "outputs": [
        {
          "output_type": "stream",
          "name": "stdout",
          "text": [
            "[[ 5 12]\n",
            " [21 32]]\n",
            "[[19 22]\n",
            " [43 50]]\n",
            "[[19 22]\n",
            " [43 50]]\n"
          ]
        }
      ]
    },
    {
      "cell_type": "code",
      "source": [
        "#matrix division\n",
        "\n",
        "a=np.array([[1,2],[3,4]])\n",
        "b=np.array([[5,6],[7,8]])\n",
        "print(a)\n",
        "print(b)\n",
        "print(a/b)"
      ],
      "metadata": {
        "colab": {
          "base_uri": "https://localhost:8080/"
        },
        "id": "xnCmL1OSNOef",
        "outputId": "a3fb052a-d424-4feb-c822-8db1b10e9935"
      },
      "execution_count": null,
      "outputs": [
        {
          "output_type": "stream",
          "name": "stdout",
          "text": [
            "[[1 2]\n",
            " [3 4]]\n",
            "[[5 6]\n",
            " [7 8]]\n",
            "[[0.2        0.33333333]\n",
            " [0.42857143 0.5       ]]\n"
          ]
        }
      ]
    },
    {
      "cell_type": "code",
      "source": [
        "#full matrix\n",
        "\n",
        "z=np.full([3,3],4,dtype=int)\n",
        "z"
      ],
      "metadata": {
        "colab": {
          "base_uri": "https://localhost:8080/"
        },
        "id": "yKVcA5J9N4n9",
        "outputId": "f820f9e5-910a-4198-da1c-7d49fa776e57"
      },
      "execution_count": null,
      "outputs": [
        {
          "output_type": "execute_result",
          "data": {
            "text/plain": [
              "array([[4, 4, 4],\n",
              "       [4, 4, 4],\n",
              "       [4, 4, 4]])"
            ]
          },
          "metadata": {},
          "execution_count": 40
        }
      ]
    },
    {
      "cell_type": "code",
      "source": [
        "#create 3x4 matrix with value 9 and datatype complex\n",
        "\n",
        "z=np.full([3,4],9,dtype=complex)\n",
        "z"
      ],
      "metadata": {
        "colab": {
          "base_uri": "https://localhost:8080/"
        },
        "id": "WaVURsjkOc1Q",
        "outputId": "8fa3af2a-84e0-40d6-bcd7-0af80225bb13"
      },
      "execution_count": null,
      "outputs": [
        {
          "output_type": "execute_result",
          "data": {
            "text/plain": [
              "array([[9.+0.j, 9.+0.j, 9.+0.j, 9.+0.j],\n",
              "       [9.+0.j, 9.+0.j, 9.+0.j, 9.+0.j],\n",
              "       [9.+0.j, 9.+0.j, 9.+0.j, 9.+0.j]])"
            ]
          },
          "metadata": {},
          "execution_count": 41
        }
      ]
    },
    {
      "cell_type": "code",
      "source": [
        "#identity matrix\n",
        "\n",
        "z=np.eye(3,dtype=int)#to print indentity\n",
        "\n",
        "#z=np.indentity(3,dtype=int)#to print indentity\n",
        "\n",
        "z"
      ],
      "metadata": {
        "colab": {
          "base_uri": "https://localhost:8080/"
        },
        "id": "SlWjNOMIO9ed",
        "outputId": "ba1188b0-46d2-4bc9-acc2-16bf064a4c6c"
      },
      "execution_count": null,
      "outputs": [
        {
          "output_type": "execute_result",
          "data": {
            "text/plain": [
              "array([[1, 0, 0],\n",
              "       [0, 1, 0],\n",
              "       [0, 0, 1]])"
            ]
          },
          "metadata": {},
          "execution_count": 46
        }
      ]
    },
    {
      "cell_type": "code",
      "source": [
        "#create a 4x4 matrix\n",
        "\n",
        "y=np.array([[1,2,3,4],[5,6,7,8],[9,10,11,12],[13,14,15,16]])\n",
        "print(y)\n",
        "\n",
        "print(y[0])  #\n",
        "print(y.size)# to find how many elements in the array"
      ],
      "metadata": {
        "colab": {
          "base_uri": "https://localhost:8080/"
        },
        "id": "Zr4jmWJtQzj6",
        "outputId": "2f047215-93a1-4d7c-b9bf-3b710e13b15a"
      },
      "execution_count": null,
      "outputs": [
        {
          "output_type": "stream",
          "name": "stdout",
          "text": [
            "[[ 1  2  3  4]\n",
            " [ 5  6  7  8]\n",
            " [ 9 10 11 12]\n",
            " [13 14 15 16]]\n",
            "[1 2 3 4]\n",
            "16\n"
          ]
        }
      ]
    },
    {
      "cell_type": "code",
      "source": [
        "#to reshape the matrix\n",
        "\n",
        "a=y.reshape(8,2)\n",
        "a"
      ],
      "metadata": {
        "colab": {
          "base_uri": "https://localhost:8080/"
        },
        "id": "sui0qMvbRe17",
        "outputId": "97ce58e7-b17c-4e32-f726-70b6becb97a3"
      },
      "execution_count": null,
      "outputs": [
        {
          "output_type": "execute_result",
          "data": {
            "text/plain": [
              "array([[ 1,  2],\n",
              "       [ 3,  4],\n",
              "       [ 5,  6],\n",
              "       [ 7,  8],\n",
              "       [ 9, 10],\n",
              "       [11, 12],\n",
              "       [13, 14],\n",
              "       [15, 16]])"
            ]
          },
          "metadata": {},
          "execution_count": 50
        }
      ]
    },
    {
      "cell_type": "code",
      "source": [
        "#arange\n",
        "\n",
        "#array of range\n",
        "\n",
        "a=np.arange(1,10,2)\n",
        "a"
      ],
      "metadata": {
        "colab": {
          "base_uri": "https://localhost:8080/"
        },
        "id": "IvafQ1d0SHEy",
        "outputId": "909d696b-7f59-49ec-9b60-4f3d5755f604"
      },
      "execution_count": null,
      "outputs": [
        {
          "output_type": "execute_result",
          "data": {
            "text/plain": [
              "array([1, 3, 5, 7, 9])"
            ]
          },
          "metadata": {},
          "execution_count": 52
        }
      ]
    },
    {
      "cell_type": "code",
      "source": [
        "#create a 5x2 matrix using a range\n",
        "\n",
        "a=np.arange(1,11).reshape(5,2)\n",
        "a\n"
      ],
      "metadata": {
        "colab": {
          "base_uri": "https://localhost:8080/"
        },
        "id": "aPsvEAMwSlLb",
        "outputId": "b094a733-36b5-4987-8f8d-3cdcb63c8b93"
      },
      "execution_count": null,
      "outputs": [
        {
          "output_type": "execute_result",
          "data": {
            "text/plain": [
              "array([[ 1,  2],\n",
              "       [ 3,  4],\n",
              "       [ 5,  6],\n",
              "       [ 7,  8],\n",
              "       [ 9, 10]])"
            ]
          },
          "metadata": {},
          "execution_count": 54
        }
      ]
    },
    {
      "cell_type": "code",
      "source": [
        "#create 3x3 matrix with float values\n",
        "\n",
        "a=np.array([[2.5,3.6,3.5],[1.5,1.1,6.5],[7.1,2.5,7.1]])\n",
        "a\n"
      ],
      "metadata": {
        "colab": {
          "base_uri": "https://localhost:8080/"
        },
        "id": "IQccdv3gTJ1h",
        "outputId": "3f16b884-5119-4d2f-9a46-2c5ddc40ef53"
      },
      "execution_count": null,
      "outputs": [
        {
          "output_type": "execute_result",
          "data": {
            "text/plain": [
              "array([[2.5, 3.6, 3.5],\n",
              "       [1.5, 1.1, 6.5],\n",
              "       [7.1, 2.5, 7.1]])"
            ]
          },
          "metadata": {},
          "execution_count": 55
        }
      ]
    },
    {
      "cell_type": "code",
      "source": [
        "#floor\n",
        "\n",
        "z=np.floor(a)\n",
        "z"
      ],
      "metadata": {
        "colab": {
          "base_uri": "https://localhost:8080/"
        },
        "id": "7Cpt_Kf8U0gJ",
        "outputId": "11a9477b-362e-4f35-f60b-df937927bf65"
      },
      "execution_count": null,
      "outputs": [
        {
          "output_type": "execute_result",
          "data": {
            "text/plain": [
              "array([[2., 3., 3.],\n",
              "       [1., 1., 6.],\n",
              "       [7., 2., 7.]])"
            ]
          },
          "metadata": {},
          "execution_count": 56
        }
      ]
    },
    {
      "cell_type": "code",
      "source": [
        "#ceil\n",
        "\n",
        "z=np.ceil(a)\n",
        "z"
      ],
      "metadata": {
        "colab": {
          "base_uri": "https://localhost:8080/"
        },
        "id": "6UhJgyVNVAAy",
        "outputId": "179e203b-30d8-4ce5-a915-e79fd63f234a"
      },
      "execution_count": null,
      "outputs": [
        {
          "output_type": "execute_result",
          "data": {
            "text/plain": [
              "array([[3., 4., 4.],\n",
              "       [2., 2., 7.],\n",
              "       [8., 3., 8.]])"
            ]
          },
          "metadata": {},
          "execution_count": 57
        }
      ]
    },
    {
      "cell_type": "code",
      "source": [
        "#round\n",
        "\n",
        "z=np.round(a)\n",
        "z"
      ],
      "metadata": {
        "colab": {
          "base_uri": "https://localhost:8080/"
        },
        "id": "9UVFHgNKVt5S",
        "outputId": "75ead04c-f1c1-4cfb-d9fe-4c444c83764b"
      },
      "execution_count": null,
      "outputs": [
        {
          "output_type": "execute_result",
          "data": {
            "text/plain": [
              "array([[2., 4., 4.],\n",
              "       [2., 1., 6.],\n",
              "       [7., 2., 7.]])"
            ]
          },
          "metadata": {},
          "execution_count": 58
        }
      ]
    },
    {
      "cell_type": "code",
      "source": [
        "#create a 3x3 matrix\n",
        "\n",
        "a=np.arange(1,10).reshape(3,3)\n",
        "print(a)\n",
        "\n",
        "a.max()\n",
        "\n",
        "a.max(axis=0)\n",
        "\n",
        "#axis=1-rows\n",
        "#axis=0-column"
      ],
      "metadata": {
        "colab": {
          "base_uri": "https://localhost:8080/"
        },
        "id": "nmZ3RowxXJWx",
        "outputId": "86aad319-8e21-449f-da98-bd656125b3ee"
      },
      "execution_count": null,
      "outputs": [
        {
          "output_type": "stream",
          "name": "stdout",
          "text": [
            "[[1 2 3]\n",
            " [4 5 6]\n",
            " [7 8 9]]\n"
          ]
        },
        {
          "output_type": "execute_result",
          "data": {
            "text/plain": [
              "array([7, 8, 9])"
            ]
          },
          "metadata": {},
          "execution_count": 66
        }
      ]
    },
    {
      "cell_type": "code",
      "source": [
        "#sort\n",
        "#create 3x3 matrix\n",
        "import numpy as np\n",
        "\n",
        "a=np.array([[2,3,1],[5,3,1],[6,9,8]])\n",
        "\n",
        "print(a)\n",
        "\n",
        "b=np.sort(a,axis=0)#sorted by column\n",
        "print(b)\n",
        "\n",
        "c=np.sort(a,axis=1)#sorted by rows\n",
        "print(c)\n",
        "\n",
        "d=np.argsort(a)#sorted by row index\n",
        "print(d)"
      ],
      "metadata": {
        "colab": {
          "base_uri": "https://localhost:8080/"
        },
        "id": "0Oczg7qPmcDt",
        "outputId": "67c22a96-4bde-40c0-ead7-57780e299dcf"
      },
      "execution_count": 3,
      "outputs": [
        {
          "output_type": "stream",
          "name": "stdout",
          "text": [
            "[[2 3 1]\n",
            " [5 3 1]\n",
            " [6 9 8]]\n",
            "[[2 3 1]\n",
            " [5 3 1]\n",
            " [6 9 8]]\n",
            "[[1 2 3]\n",
            " [1 3 5]\n",
            " [6 8 9]]\n",
            "[[2 0 1]\n",
            " [2 1 0]\n",
            " [0 2 1]]\n"
          ]
        }
      ]
    },
    {
      "cell_type": "code",
      "source": [],
      "metadata": {
        "id": "i5ohRiBToYJz"
      },
      "execution_count": null,
      "outputs": []
    }
  ]
}